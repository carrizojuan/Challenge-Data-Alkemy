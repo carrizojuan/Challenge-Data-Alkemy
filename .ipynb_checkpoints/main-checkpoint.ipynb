{
 "cells": [
  {
   "cell_type": "code",
   "execution_count": 2,
   "id": "6aecc569",
   "metadata": {},
   "outputs": [],
   "source": [
    "import requests\n",
    "import pandas as pd\n",
    "import io\n",
    "from datetime import datetime\n",
    "import os"
   ]
  },
  {
   "cell_type": "code",
   "execution_count": 3,
   "id": "fb57efb3",
   "metadata": {},
   "outputs": [],
   "source": [
    "url_museos = \"https://datos.cultura.gob.ar/dataset/37305de4-3cce-4d4b-9d9a-fec3ca61d09f/resource/4207def0-2ff7-41d5-9095-d42ae8207a5d/download/museos_datosabiertos.csv\"\n",
    "url_cines = \"https://datos.cultura.gob.ar/dataset/0560ef96-55ca-4026-b70a-d638e1541c05/resource/b8bf0459-16a5-430b-b8e1-4fb786572469/download/salas_cine.csv\"\n",
    "url_bibliotecas = \"https://datos.cultura.gob.ar/dataset/37305de4-3cce-4d4b-9d9a-fec3ca61d09f/resource/01c6c048-dbeb-44e0-8efa-6944f73715d7/download/biblioteca_popular.csv\""
   ]
  },
  {
   "cell_type": "code",
   "execution_count": 4,
   "id": "9809b760",
   "metadata": {},
   "outputs": [],
   "source": [
    "today = datetime.now()\n",
    "year_month = today.strftime('%Y-%B')"
   ]
  },
  {
   "cell_type": "code",
   "execution_count": 5,
   "id": "cce5f871",
   "metadata": {},
   "outputs": [],
   "source": [
    "def extract(url, tipo):\n",
    "    folder = os.path.join(tipo, year_month)\n",
    "    os.makedirs(folder, exist_ok=True)\n",
    "    filename = f\"{tipo}-{today.strftime('%d-%m-%Y')}.csv\"\n",
    "    filepath = os.path.join(folder, filename)\n",
    "    r = requests.get(url)\n",
    "    with open(filepath, 'wb') as f:\n",
    "        f.write(r.content)"
   ]
  },
  {
   "cell_type": "code",
   "execution_count": 12,
   "id": "51e9f594",
   "metadata": {},
   "outputs": [
    {
     "name": "stdout",
     "output_type": "stream",
     "text": [
      "<class 'pandas.core.frame.DataFrame'>\n",
      "RangeIndex: 1182 entries, 0 to 1181\n",
      "Data columns (total 24 columns):\n",
      " #   Column               Non-Null Count  Dtype  \n",
      "---  ------               --------------  -----  \n",
      " 0   Cod_Loc              1182 non-null   int64  \n",
      " 1   IdProvincia          1182 non-null   int64  \n",
      " 2   IdDepartamento       1182 non-null   int64  \n",
      " 3   Observaciones        0 non-null      float64\n",
      " 4   categoria            1182 non-null   object \n",
      " 5   subcategoria         1049 non-null   object \n",
      " 6   provincia            1182 non-null   object \n",
      " 7   localidad            1182 non-null   object \n",
      " 8   nombre               1182 non-null   object \n",
      " 9   direccion            1164 non-null   object \n",
      " 10  piso                 0 non-null      float64\n",
      " 11  CP                   1116 non-null   object \n",
      " 12  cod_area             989 non-null    float64\n",
      " 13  telefono             988 non-null    object \n",
      " 14  Mail                 264 non-null    object \n",
      " 15  Web                  75 non-null     object \n",
      " 16  Latitud              1182 non-null   float64\n",
      " 17  Longitud             1182 non-null   float64\n",
      " 18  TipoLatitudLongitud  1182 non-null   object \n",
      " 19  Info_adicional       10 non-null     object \n",
      " 20  fuente               1182 non-null   object \n",
      " 21  jurisdiccion         1085 non-null   object \n",
      " 22  año_inauguracion     643 non-null    float64\n",
      " 23  actualizacion        1182 non-null   int64  \n",
      "dtypes: float64(6), int64(4), object(14)\n",
      "memory usage: 221.8+ KB\n",
      "None\n"
     ]
    }
   ],
   "source": [
    "extract(url_museos, \"museos\")\n",
    "extract(url_bibliotecas, \"bibliotecas\")\n",
    "folder = os.path.join(\"museos\", year_month)\n",
    "filename = f\"museos-{today.strftime('%d-%m-%Y')}.csv\"\n",
    "filepath = os.path.join(folder, filename)\n",
    "museos = pd.read_csv(filepath)\n",
    "\n",
    "print(museos.info())"
   ]
  },
  {
   "cell_type": "code",
   "execution_count": 17,
   "id": "0bcab060",
   "metadata": {},
   "outputs": [],
   "source": [
    "columns_rename = {\n",
    "    'Cod_Loc':'cod_localidad',\n",
    "    'IdProvincia':'id_provincia',\n",
    "    'IdDepartamento':'id_departamento',\n",
    "    'categoria':'categoría',\n",
    "    'direccion':'domicilio',\n",
    "    'CP':'código postal',\n",
    "    'telefono':'número de teléfono',\n",
    "    'Mail':'mail',\n",
    "    'Web':'web'\n",
    "}\n",
    "museos.rename(columns=columns_rename, inplace=True)\n",
    "\n",
    "columns_name = [\"cod_localidad\", \"id_provincia\", \"id_departamento\", \"categoría\", \"domicilio\", \"código postal\", \"número de teléfono\", \"mail\", \"web\"]\n",
    "\n",
    "museos = museos[columns_name]"
   ]
  },
  {
   "cell_type": "code",
   "execution_count": 24,
   "id": "98cc869f",
   "metadata": {},
   "outputs": [
    {
     "name": "stdout",
     "output_type": "stream",
     "text": [
      "<class 'pandas.core.frame.DataFrame'>\n",
      "RangeIndex: 329 entries, 0 to 328\n",
      "Data columns (total 26 columns):\n",
      " #   Column                 Non-Null Count  Dtype  \n",
      "---  ------                 --------------  -----  \n",
      " 0   Cod_Loc                329 non-null    int64  \n",
      " 1   IdProvincia            329 non-null    int64  \n",
      " 2   IdDepartamento         329 non-null    int64  \n",
      " 3   Observaciones          0 non-null      float64\n",
      " 4   Categoría              329 non-null    object \n",
      " 5   Provincia              329 non-null    object \n",
      " 6   Departamento           329 non-null    object \n",
      " 7   Localidad              329 non-null    object \n",
      " 8   Nombre                 329 non-null    object \n",
      " 9   Dirección              329 non-null    object \n",
      " 10  Piso                   329 non-null    object \n",
      " 11  CP                     329 non-null    int64  \n",
      " 12  cod_area               329 non-null    object \n",
      " 13  Teléfono               329 non-null    object \n",
      " 14  Mail                   329 non-null    object \n",
      " 15  Web                    329 non-null    object \n",
      " 16  Información adicional  0 non-null      float64\n",
      " 17  Latitud                329 non-null    object \n",
      " 18  Longitud               329 non-null    object \n",
      " 19  TipoLatitudLongitud    329 non-null    object \n",
      " 20  Fuente                 329 non-null    object \n",
      " 21  tipo_gestion           329 non-null    object \n",
      " 22  Pantallas              329 non-null    int64  \n",
      " 23  Butacas                329 non-null    int64  \n",
      " 24  espacio_INCAA          64 non-null     object \n",
      " 25  año_actualizacion      329 non-null    int64  \n",
      "dtypes: float64(2), int64(7), object(17)\n",
      "memory usage: 67.0+ KB\n"
     ]
    }
   ],
   "source": [
    "folder = os.path.join(\"cines\", year_month)\n",
    "filename = f\"cines-{today.strftime('%d-%m-%Y')}.csv\"\n",
    "filepath = os.path.join(folder, filename)\n",
    "cines = pd.read_csv(filepath)\n",
    "cines.info()\n",
    "columns_rename = {\n",
    "    'Cod_Loc':'cod_localidad',\n",
    "    'IdProvincia':'id_provincia',\n",
    "    'IdDepartamento':'id_departamento',\n",
    "    'categoria':'categoría',\n",
    "    'Dirección':'domicilio',\n",
    "    'CP':'código postal',\n",
    "    'Teléfono':'número de teléfono',\n",
    "    'Mail':'mail',\n",
    "    'Web':'web',\n",
    "    'Provincia':'provincia',\n",
    "    'Localidad':'localidad',\n",
    "    'Nombre':'nombre',\n",
    "    \n",
    "}\n",
    "cines.rename(columns=columns_rename, inplace=True)\n",
    "\n",
    "columns_name = [\"cod_localidad\", \"id_provincia\", \"id_departamento\", \"categoría\", \"domicilio\", \"código postal\", \"número de teléfono\", \"mail\", \"web\"]\n",
    "\n",
    "museos = museos[columns_name]"
   ]
  }
 ],
 "metadata": {
  "kernelspec": {
   "display_name": "Python 3 (ipykernel)",
   "language": "python",
   "name": "python3"
  },
  "language_info": {
   "codemirror_mode": {
    "name": "ipython",
    "version": 3
   },
   "file_extension": ".py",
   "mimetype": "text/x-python",
   "name": "python",
   "nbconvert_exporter": "python",
   "pygments_lexer": "ipython3",
   "version": "3.8.5"
  }
 },
 "nbformat": 4,
 "nbformat_minor": 5
}
