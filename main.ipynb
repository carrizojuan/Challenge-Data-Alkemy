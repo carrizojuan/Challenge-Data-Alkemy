{
 "cells": [
  {
   "cell_type": "code",
   "execution_count": 1,
   "id": "f2f33404",
   "metadata": {},
   "outputs": [],
   "source": [
    "import requests\n",
    "import pandas as pd\n",
    "import io\n",
    "from datetime import datetime\n",
    "import os"
   ]
  },
  {
   "cell_type": "code",
   "execution_count": 2,
   "id": "4e711464",
   "metadata": {},
   "outputs": [],
   "source": [
    "#URLS datasets\n",
    "\n",
    "url_museos = \"https://datos.cultura.gob.ar/dataset/37305de4-3cce-4d4b-9d9a-fec3ca61d09f/resource/4207def0-2ff7-41d5-9095-d42ae8207a5d/download/museos_datosabiertos.csv\"\n",
    "url_cines = \"https://datos.cultura.gob.ar/dataset/0560ef96-55ca-4026-b70a-d638e1541c05/resource/b8bf0459-16a5-430b-b8e1-4fb786572469/download/salas_cine.csv\"\n",
    "url_bibliotecas = \"https://datos.cultura.gob.ar/dataset/37305de4-3cce-4d4b-9d9a-fec3ca61d09f/resource/01c6c048-dbeb-44e0-8efa-6944f73715d7/download/biblioteca_popular.csv\""
   ]
  },
  {
   "cell_type": "code",
   "execution_count": 3,
   "id": "47e51097",
   "metadata": {},
   "outputs": [
    {
     "data": {
      "text/plain": [
       "(datetime.datetime(2023, 4, 3, 10, 50, 35, 58962), '2023-April')"
      ]
     },
     "execution_count": 3,
     "metadata": {},
     "output_type": "execute_result"
    }
   ],
   "source": [
    "#Obtencion fecha actual\n",
    "\n",
    "today = datetime.now()\n",
    "year_month = today.strftime('%Y-%B')\n",
    "today, year_month"
   ]
  },
  {
   "cell_type": "code",
   "execution_count": 4,
   "id": "a53f2047",
   "metadata": {},
   "outputs": [],
   "source": [
    "#Funcion para extraer dataset a travez de la url\n",
    "\n",
    "def extract(url, tipo):\n",
    "    folder = os.path.join(tipo, year_month)\n",
    "    os.makedirs(folder, exist_ok=True)\n",
    "    filename = f\"{tipo}-{today.strftime('%d-%m-%Y')}.csv\"\n",
    "    filepath = os.path.join(folder, filename)\n",
    "    r = requests.get(url)\n",
    "    with open(filepath, 'wb') as f:\n",
    "        f.write(r.content)\n",
    "    return filepath"
   ]
  },
  {
   "cell_type": "code",
   "execution_count": 5,
   "id": "9590cd4b",
   "metadata": {},
   "outputs": [
    {
     "data": {
      "text/plain": [
       "('museos\\\\2023-April\\\\museos-03-04-2023.csv',\n",
       " 'bibliotecas\\\\2023-April\\\\bibliotecas-03-04-2023.csv',\n",
       " 'cines\\\\2023-April\\\\cines-03-04-2023.csv')"
      ]
     },
     "execution_count": 5,
     "metadata": {},
     "output_type": "execute_result"
    }
   ],
   "source": [
    "#EXTRACCION\n",
    "\n",
    "path_museos = extract(url_museos, \"museos\")\n",
    "path_bibliotecas = extract(url_bibliotecas, \"bibliotecas\")\n",
    "folder = os.path.join(\"cines\", year_month)\n",
    "filename = f\"cines-{today.strftime('%d-%m-%Y')}.csv\"\n",
    "path_cines = os.path.join(folder, filename)\n",
    "path_museos, path_bibliotecas, path_cines"
   ]
  },
  {
   "cell_type": "code",
   "execution_count": 6,
   "id": "663eefd7",
   "metadata": {},
   "outputs": [
    {
     "ename": "KeyError",
     "evalue": "('cod_localidad', 'id_provincia')",
     "output_type": "error",
     "traceback": [
      "\u001b[1;31m---------------------------------------------------------------------------\u001b[0m",
      "\u001b[1;31mKeyError\u001b[0m                                  Traceback (most recent call last)",
      "File \u001b[1;32mc:\\users\\juan cruz\\documents\\alkemychallenge\\daenv\\lib\\site-packages\\pandas\\core\\indexes\\base.py:3800\u001b[0m, in \u001b[0;36mIndex.get_loc\u001b[1;34m(self, key, method, tolerance)\u001b[0m\n\u001b[0;32m   3799\u001b[0m \u001b[38;5;28;01mtry\u001b[39;00m:\n\u001b[1;32m-> 3800\u001b[0m     \u001b[38;5;28;01mreturn\u001b[39;00m \u001b[38;5;28;43mself\u001b[39;49m\u001b[38;5;241;43m.\u001b[39;49m\u001b[43m_engine\u001b[49m\u001b[38;5;241;43m.\u001b[39;49m\u001b[43mget_loc\u001b[49m\u001b[43m(\u001b[49m\u001b[43mcasted_key\u001b[49m\u001b[43m)\u001b[49m\n\u001b[0;32m   3801\u001b[0m \u001b[38;5;28;01mexcept\u001b[39;00m \u001b[38;5;167;01mKeyError\u001b[39;00m \u001b[38;5;28;01mas\u001b[39;00m err:\n",
      "File \u001b[1;32mc:\\users\\juan cruz\\documents\\alkemychallenge\\daenv\\lib\\site-packages\\pandas\\_libs\\index.pyx:138\u001b[0m, in \u001b[0;36mpandas._libs.index.IndexEngine.get_loc\u001b[1;34m()\u001b[0m\n",
      "File \u001b[1;32mc:\\users\\juan cruz\\documents\\alkemychallenge\\daenv\\lib\\site-packages\\pandas\\_libs\\index.pyx:165\u001b[0m, in \u001b[0;36mpandas._libs.index.IndexEngine.get_loc\u001b[1;34m()\u001b[0m\n",
      "File \u001b[1;32mpandas\\_libs\\hashtable_class_helper.pxi:5745\u001b[0m, in \u001b[0;36mpandas._libs.hashtable.PyObjectHashTable.get_item\u001b[1;34m()\u001b[0m\n",
      "File \u001b[1;32mpandas\\_libs\\hashtable_class_helper.pxi:5753\u001b[0m, in \u001b[0;36mpandas._libs.hashtable.PyObjectHashTable.get_item\u001b[1;34m()\u001b[0m\n",
      "\u001b[1;31mKeyError\u001b[0m: ('cod_localidad', 'id_provincia')",
      "\nThe above exception was the direct cause of the following exception:\n",
      "\u001b[1;31mKeyError\u001b[0m                                  Traceback (most recent call last)",
      "Cell \u001b[1;32mIn[6], line 59\u001b[0m\n\u001b[0;32m     57\u001b[0m bibliotecas\u001b[38;5;241m.\u001b[39mrename(columns\u001b[38;5;241m=\u001b[39mcolumns_bibliotecas_rename, inplace\u001b[38;5;241m=\u001b[39m\u001b[38;5;28;01mTrue\u001b[39;00m)\n\u001b[0;32m     58\u001b[0m bibliotecasnorm \u001b[38;5;241m=\u001b[39m bibliotecas[columns_norm_names]\n\u001b[1;32m---> 59\u001b[0m cines \u001b[38;5;241m=\u001b[39m \u001b[43mcines\u001b[49m\u001b[43m[\u001b[49m\u001b[38;5;124;43m\"\u001b[39;49m\u001b[38;5;124;43mcod_localidad\u001b[39;49m\u001b[38;5;124;43m\"\u001b[39;49m\u001b[43m,\u001b[49m\u001b[43m \u001b[49m\u001b[38;5;124;43m\"\u001b[39;49m\u001b[38;5;124;43mid_provincia\u001b[39;49m\u001b[38;5;124;43m\"\u001b[39;49m\u001b[43m]\u001b[49m\n\u001b[0;32m     60\u001b[0m cines\u001b[38;5;241m.\u001b[39minfo()\n",
      "File \u001b[1;32mc:\\users\\juan cruz\\documents\\alkemychallenge\\daenv\\lib\\site-packages\\pandas\\core\\frame.py:3805\u001b[0m, in \u001b[0;36mDataFrame.__getitem__\u001b[1;34m(self, key)\u001b[0m\n\u001b[0;32m   3803\u001b[0m \u001b[38;5;28;01mif\u001b[39;00m \u001b[38;5;28mself\u001b[39m\u001b[38;5;241m.\u001b[39mcolumns\u001b[38;5;241m.\u001b[39mnlevels \u001b[38;5;241m>\u001b[39m \u001b[38;5;241m1\u001b[39m:\n\u001b[0;32m   3804\u001b[0m     \u001b[38;5;28;01mreturn\u001b[39;00m \u001b[38;5;28mself\u001b[39m\u001b[38;5;241m.\u001b[39m_getitem_multilevel(key)\n\u001b[1;32m-> 3805\u001b[0m indexer \u001b[38;5;241m=\u001b[39m \u001b[38;5;28;43mself\u001b[39;49m\u001b[38;5;241;43m.\u001b[39;49m\u001b[43mcolumns\u001b[49m\u001b[38;5;241;43m.\u001b[39;49m\u001b[43mget_loc\u001b[49m\u001b[43m(\u001b[49m\u001b[43mkey\u001b[49m\u001b[43m)\u001b[49m\n\u001b[0;32m   3806\u001b[0m \u001b[38;5;28;01mif\u001b[39;00m is_integer(indexer):\n\u001b[0;32m   3807\u001b[0m     indexer \u001b[38;5;241m=\u001b[39m [indexer]\n",
      "File \u001b[1;32mc:\\users\\juan cruz\\documents\\alkemychallenge\\daenv\\lib\\site-packages\\pandas\\core\\indexes\\base.py:3802\u001b[0m, in \u001b[0;36mIndex.get_loc\u001b[1;34m(self, key, method, tolerance)\u001b[0m\n\u001b[0;32m   3800\u001b[0m     \u001b[38;5;28;01mreturn\u001b[39;00m \u001b[38;5;28mself\u001b[39m\u001b[38;5;241m.\u001b[39m_engine\u001b[38;5;241m.\u001b[39mget_loc(casted_key)\n\u001b[0;32m   3801\u001b[0m \u001b[38;5;28;01mexcept\u001b[39;00m \u001b[38;5;167;01mKeyError\u001b[39;00m \u001b[38;5;28;01mas\u001b[39;00m err:\n\u001b[1;32m-> 3802\u001b[0m     \u001b[38;5;28;01mraise\u001b[39;00m \u001b[38;5;167;01mKeyError\u001b[39;00m(key) \u001b[38;5;28;01mfrom\u001b[39;00m \u001b[38;5;21;01merr\u001b[39;00m\n\u001b[0;32m   3803\u001b[0m \u001b[38;5;28;01mexcept\u001b[39;00m \u001b[38;5;167;01mTypeError\u001b[39;00m:\n\u001b[0;32m   3804\u001b[0m     \u001b[38;5;66;03m# If we have a listlike key, _check_indexing_error will raise\u001b[39;00m\n\u001b[0;32m   3805\u001b[0m     \u001b[38;5;66;03m#  InvalidIndexError. Otherwise we fall through and re-raise\u001b[39;00m\n\u001b[0;32m   3806\u001b[0m     \u001b[38;5;66;03m#  the TypeError.\u001b[39;00m\n\u001b[0;32m   3807\u001b[0m     \u001b[38;5;28mself\u001b[39m\u001b[38;5;241m.\u001b[39m_check_indexing_error(key)\n",
      "\u001b[1;31mKeyError\u001b[0m: ('cod_localidad', 'id_provincia')"
     ]
    }
   ],
   "source": [
    "#TRANSFORMACION\n",
    "\n",
    "#Normalizacion de tablas\n",
    "\n",
    "columns_norm_names=[\"cod_localidad\", \"id_provincia\", \"id_departamento\",\"categoría\",\n",
    "              \"provincia\",\"localidad\",\"nombre\",\"domicilio\",\"código postal\",\"número de teléfono\",\"mail\",\"web\"]\n",
    "\n",
    "columns_museos_rename = {\n",
    "    'Cod_Loc':'cod_localidad',\n",
    "    'IdProvincia':'id_provincia',\n",
    "    'IdDepartamento':'id_departamento',\n",
    "    'categoria':'categoría',\n",
    "    'direccion':'domicilio',\n",
    "    'CP':'código postal',\n",
    "    'telefono':'número de teléfono',\n",
    "    'Mail':'mail',\n",
    "    'Web':'web'\n",
    "}\n",
    "museos = pd.read_csv(path_museos)\n",
    "museos.rename(columns=columns_museos_rename, inplace=True)\n",
    "museosnorm =museos[columns_norm_names]\n",
    "\n",
    "columns_cines_rename = {\n",
    "    'Cod_Loc':'cod_localidad',\n",
    "    'IdProvincia':'id_provincia',\n",
    "    'IdDepartamento':'id_departamento',\n",
    "    'Categoría':'categoría',\n",
    "    'Dirección':'domicilio',\n",
    "    'CP':'código postal',\n",
    "    'Teléfono':'número de teléfono',\n",
    "    'Mail':'mail',\n",
    "    'Web':'web',\n",
    "    'Provincia':'provincia',\n",
    "    'Localidad':'localidad',\n",
    "    'Nombre':'nombre',   \n",
    "}\n",
    "\n",
    "cines = pd.read_csv(path_cines)\n",
    "cines.rename(columns=columns_cines_rename, inplace=True)\n",
    "cinesnorm = cines[columns_norm_names]\n",
    "\n",
    "columns_bibliotecas_rename = {\n",
    "    'Cod_Loc':'cod_localidad',\n",
    "    'IdProvincia':'id_provincia',\n",
    "    'IdDepartamento':'id_departamento',\n",
    "    'Categoría':'categoría',\n",
    "    'Domicilio':'domicilio',\n",
    "    'CP':'código postal',\n",
    "    'Teléfono':'número de teléfono',\n",
    "    'Mail':'mail',\n",
    "    'Web':'web',\n",
    "    'Provincia':'provincia',\n",
    "    'Localidad':'localidad',\n",
    "    'Nombre':'nombre',\n",
    "}\n",
    "bibliotecas = pd.read_csv(path_bibliotecas)\n",
    "bibliotecas.rename(columns=columns_bibliotecas_rename, inplace=True)\n",
    "bibliotecasnorm = bibliotecas[columns_norm_names]\n",
    "cines = cines[\"cod_localidad\", \"id_provincia\"]\n",
    "cines.info()"
   ]
  },
  {
   "cell_type": "code",
   "execution_count": 7,
   "id": "32d1f1d3",
   "metadata": {},
   "outputs": [
    {
     "name": "stdout",
     "output_type": "stream",
     "text": [
      "<class 'pandas.core.frame.DataFrame'>\n",
      "Int64Index: 3528 entries, 0 to 2016\n",
      "Data columns (total 12 columns):\n",
      " #   Column              Non-Null Count  Dtype \n",
      "---  ------              --------------  ----- \n",
      " 0   cod_localidad       3528 non-null   int64 \n",
      " 1   id_provincia        3528 non-null   int64 \n",
      " 2   id_departamento     3528 non-null   int64 \n",
      " 3   categoría           3528 non-null   object\n",
      " 4   provincia           3528 non-null   object\n",
      " 5   localidad           3528 non-null   object\n",
      " 6   nombre              3528 non-null   object\n",
      " 7   domicilio           3510 non-null   object\n",
      " 8   código postal       3462 non-null   object\n",
      " 9   número de teléfono  3334 non-null   object\n",
      " 10  mail                2610 non-null   object\n",
      " 11  web                 404 non-null    object\n",
      "dtypes: int64(3), object(9)\n",
      "memory usage: 358.3+ KB\n"
     ]
    }
   ],
   "source": [
    "#Concatenacion de los df\n",
    "\n",
    "df = pd.concat([museosnorm, cinesnorm, bibliotecasnorm], axis=0)\n",
    "df.info()"
   ]
  },
  {
   "cell_type": "code",
   "execution_count": 8,
   "id": "c17342fd",
   "metadata": {},
   "outputs": [
    {
     "name": "stdout",
     "output_type": "stream",
     "text": [
      "<class 'pandas.core.frame.DataFrame'>\n",
      "RangeIndex: 3 entries, 0 to 2\n",
      "Data columns (total 2 columns):\n",
      " #   Column     Non-Null Count  Dtype \n",
      "---  ------     --------------  ----- \n",
      " 0   categoría  3 non-null      object\n",
      " 1   size       3 non-null      int64 \n",
      "dtypes: int64(1), object(1)\n",
      "memory usage: 176.0+ bytes\n"
     ]
    }
   ],
   "source": [
    "#CANTIDAD DE REGISTROS TOTALES POR CATEGORIA\n",
    "size_by_category = df.groupby(\"categoría\", as_index=False).size()\n",
    "size_by_category.info()"
   ]
  },
  {
   "cell_type": "code",
   "execution_count": 90,
   "id": "13d40153",
   "metadata": {},
   "outputs": [
    {
     "data": {
      "text/html": [
       "<div>\n",
       "<style scoped>\n",
       "    .dataframe tbody tr th:only-of-type {\n",
       "        vertical-align: middle;\n",
       "    }\n",
       "\n",
       "    .dataframe tbody tr th {\n",
       "        vertical-align: top;\n",
       "    }\n",
       "\n",
       "    .dataframe thead th {\n",
       "        text-align: right;\n",
       "    }\n",
       "</style>\n",
       "<table border=\"1\" class=\"dataframe\">\n",
       "  <thead>\n",
       "    <tr style=\"text-align: right;\">\n",
       "      <th></th>\n",
       "      <th>source</th>\n",
       "      <th>count</th>\n",
       "    </tr>\n",
       "  </thead>\n",
       "  <tbody>\n",
       "    <tr>\n",
       "      <th>0</th>\n",
       "      <td>museos</td>\n",
       "      <td>28368</td>\n",
       "    </tr>\n",
       "    <tr>\n",
       "      <th>1</th>\n",
       "      <td>cines</td>\n",
       "      <td>8554</td>\n",
       "    </tr>\n",
       "    <tr>\n",
       "      <th>2</th>\n",
       "      <td>bibliotecas</td>\n",
       "      <td>50425</td>\n",
       "    </tr>\n",
       "  </tbody>\n",
       "</table>\n",
       "</div>"
      ],
      "text/plain": [
       "        source  count\n",
       "0       museos  28368\n",
       "1        cines   8554\n",
       "2  bibliotecas  50425"
      ]
     },
     "execution_count": 90,
     "metadata": {},
     "output_type": "execute_result"
    }
   ],
   "source": [
    "#CANTIDAD DE REGISTROS TOTALES POR FUENTE\n",
    "dfs = {'museos':museos, 'cines':cines, 'bibliotecas':bibliotecas}\n",
    "lst = list()\n",
    "for name, df in dfs.items():\n",
    "    lst.append({'source': name, 'count':df.size})\n",
    "size_by_source = pd.DataFrame(lst)\n",
    "size_by_source"
   ]
  },
  {
   "cell_type": "code",
   "execution_count": 98,
   "id": "501910af",
   "metadata": {},
   "outputs": [
    {
     "data": {
      "text/html": [
       "<div>\n",
       "<style scoped>\n",
       "    .dataframe tbody tr th:only-of-type {\n",
       "        vertical-align: middle;\n",
       "    }\n",
       "\n",
       "    .dataframe tbody tr th {\n",
       "        vertical-align: top;\n",
       "    }\n",
       "\n",
       "    .dataframe thead th {\n",
       "        text-align: right;\n",
       "    }\n",
       "</style>\n",
       "<table border=\"1\" class=\"dataframe\">\n",
       "  <thead>\n",
       "    <tr style=\"text-align: right;\">\n",
       "      <th></th>\n",
       "      <th>provincia</th>\n",
       "      <th>categoría</th>\n",
       "      <th>size</th>\n",
       "    </tr>\n",
       "  </thead>\n",
       "  <tbody>\n",
       "    <tr>\n",
       "      <th>0</th>\n",
       "      <td>Buenos Aires</td>\n",
       "      <td>Bibliotecas Populares</td>\n",
       "      <td>543</td>\n",
       "    </tr>\n",
       "    <tr>\n",
       "      <th>1</th>\n",
       "      <td>Buenos Aires</td>\n",
       "      <td>Espacios de Exhibición Patrimonial</td>\n",
       "      <td>152</td>\n",
       "    </tr>\n",
       "    <tr>\n",
       "      <th>2</th>\n",
       "      <td>Buenos Aires</td>\n",
       "      <td>Salas de cine</td>\n",
       "      <td>106</td>\n",
       "    </tr>\n",
       "    <tr>\n",
       "      <th>3</th>\n",
       "      <td>Catamarca</td>\n",
       "      <td>Bibliotecas Populares</td>\n",
       "      <td>38</td>\n",
       "    </tr>\n",
       "    <tr>\n",
       "      <th>4</th>\n",
       "      <td>Catamarca</td>\n",
       "      <td>Espacios de Exhibición Patrimonial</td>\n",
       "      <td>32</td>\n",
       "    </tr>\n",
       "    <tr>\n",
       "      <th>...</th>\n",
       "      <td>...</td>\n",
       "      <td>...</td>\n",
       "      <td>...</td>\n",
       "    </tr>\n",
       "    <tr>\n",
       "      <th>68</th>\n",
       "      <td>Tierra del Fuego</td>\n",
       "      <td>Salas de cine</td>\n",
       "      <td>3</td>\n",
       "    </tr>\n",
       "    <tr>\n",
       "      <th>69</th>\n",
       "      <td>Tierra del Fuego, Antártida e Islas del Atlánt...</td>\n",
       "      <td>Espacios de Exhibición Patrimonial</td>\n",
       "      <td>14</td>\n",
       "    </tr>\n",
       "    <tr>\n",
       "      <th>70</th>\n",
       "      <td>Tucumán</td>\n",
       "      <td>Bibliotecas Populares</td>\n",
       "      <td>37</td>\n",
       "    </tr>\n",
       "    <tr>\n",
       "      <th>71</th>\n",
       "      <td>Tucumán</td>\n",
       "      <td>Espacios de Exhibición Patrimonial</td>\n",
       "      <td>26</td>\n",
       "    </tr>\n",
       "    <tr>\n",
       "      <th>72</th>\n",
       "      <td>Tucumán</td>\n",
       "      <td>Salas de cine</td>\n",
       "      <td>8</td>\n",
       "    </tr>\n",
       "  </tbody>\n",
       "</table>\n",
       "<p>73 rows × 3 columns</p>\n",
       "</div>"
      ],
      "text/plain": [
       "                                            provincia  \\\n",
       "0                                        Buenos Aires   \n",
       "1                                        Buenos Aires   \n",
       "2                                        Buenos Aires   \n",
       "3                                           Catamarca   \n",
       "4                                           Catamarca   \n",
       "..                                                ...   \n",
       "68                                   Tierra del Fuego   \n",
       "69  Tierra del Fuego, Antártida e Islas del Atlánt...   \n",
       "70                                            Tucumán   \n",
       "71                                            Tucumán   \n",
       "72                                            Tucumán   \n",
       "\n",
       "                             categoría  size  \n",
       "0                Bibliotecas Populares   543  \n",
       "1   Espacios de Exhibición Patrimonial   152  \n",
       "2                        Salas de cine   106  \n",
       "3                Bibliotecas Populares    38  \n",
       "4   Espacios de Exhibición Patrimonial    32  \n",
       "..                                 ...   ...  \n",
       "68                       Salas de cine     3  \n",
       "69  Espacios de Exhibición Patrimonial    14  \n",
       "70               Bibliotecas Populares    37  \n",
       "71  Espacios de Exhibición Patrimonial    26  \n",
       "72                       Salas de cine     8  \n",
       "\n",
       "[73 rows x 3 columns]"
      ]
     },
     "execution_count": 98,
     "metadata": {},
     "output_type": "execute_result"
    }
   ],
   "source": [
    "#CANTIDAD DE REGISTROS POR PROVINCIA Y CATEGORIA\n",
    "size_by_prov_cat = df.groupby([\"provincia\", \"categoría\"], as_index=False).size()\n",
    "size_by_prov_cat"
   ]
  },
  {
   "cell_type": "code",
   "execution_count": 100,
   "id": "337b8767",
   "metadata": {
    "scrolled": true
   },
   "outputs": [
    {
     "name": "stderr",
     "output_type": "stream",
     "text": [
      "C:\\Users\\Juan Cruz\\AppData\\Local\\Temp\\ipykernel_15268\\3007675943.py:5: FutureWarning: Indexing with multiple keys (implicitly converted to a tuple of keys) will be deprecated, use a list instead.\n",
      "  cines_insights = cines.groupby(\"provincia\")[\"Pantallas\", \"Butacas\", \"espacio_INCAA\"].sum()\n"
     ]
    },
    {
     "data": {
      "text/html": [
       "<div>\n",
       "<style scoped>\n",
       "    .dataframe tbody tr th:only-of-type {\n",
       "        vertical-align: middle;\n",
       "    }\n",
       "\n",
       "    .dataframe tbody tr th {\n",
       "        vertical-align: top;\n",
       "    }\n",
       "\n",
       "    .dataframe thead th {\n",
       "        text-align: right;\n",
       "    }\n",
       "</style>\n",
       "<table border=\"1\" class=\"dataframe\">\n",
       "  <thead>\n",
       "    <tr style=\"text-align: right;\">\n",
       "      <th></th>\n",
       "      <th>Pantallas</th>\n",
       "      <th>Butacas</th>\n",
       "      <th>espacio_INCAA</th>\n",
       "    </tr>\n",
       "    <tr>\n",
       "      <th>provincia</th>\n",
       "      <th></th>\n",
       "      <th></th>\n",
       "      <th></th>\n",
       "    </tr>\n",
       "  </thead>\n",
       "  <tbody>\n",
       "    <tr>\n",
       "      <th>Buenos Aires</th>\n",
       "      <td>358</td>\n",
       "      <td>93112</td>\n",
       "      <td>20</td>\n",
       "    </tr>\n",
       "    <tr>\n",
       "      <th>Catamarca</th>\n",
       "      <td>12</td>\n",
       "      <td>3200</td>\n",
       "      <td>1</td>\n",
       "    </tr>\n",
       "    <tr>\n",
       "      <th>Chaco</th>\n",
       "      <td>14</td>\n",
       "      <td>2469</td>\n",
       "      <td>1</td>\n",
       "    </tr>\n",
       "    <tr>\n",
       "      <th>Chubut</th>\n",
       "      <td>10</td>\n",
       "      <td>2682</td>\n",
       "      <td>4</td>\n",
       "    </tr>\n",
       "    <tr>\n",
       "      <th>Ciudad Autónoma de Buenos Aires</th>\n",
       "      <td>153</td>\n",
       "      <td>31386</td>\n",
       "      <td>3</td>\n",
       "    </tr>\n",
       "  </tbody>\n",
       "</table>\n",
       "</div>"
      ],
      "text/plain": [
       "                                 Pantallas  Butacas  espacio_INCAA\n",
       "provincia                                                         \n",
       "Buenos Aires                           358    93112             20\n",
       "Catamarca                               12     3200              1\n",
       "Chaco                                   14     2469              1\n",
       "Chubut                                  10     2682              4\n",
       "Ciudad Autónoma de Buenos Aires        153    31386              3"
      ]
     },
     "execution_count": 100,
     "metadata": {},
     "output_type": "execute_result"
    }
   ],
   "source": [
    "#Procesar la informacion de cines para poder crear una tabla que contenga Provincia, Cant Pantallas, Butacas y Espacio Incaa\n",
    "cines['espacio_INCAA'] = cines['espacio_INCAA'].fillna(0)\n",
    "cines['espacio_INCAA'] = cines['espacio_INCAA'].replace(['si', 'SI'], '1')\n",
    "cines['espacio_INCAA'] = cines['espacio_INCAA'].astype('int64')\n",
    "cines_insights = cines.groupby(\"provincia\")[\"Pantallas\", \"Butacas\", \"espacio_INCAA\"].sum()\n",
    "cines_insights.head()"
   ]
  }
 ],
 "metadata": {
  "kernelspec": {
   "display_name": "Python 3 (ipykernel)",
   "language": "python",
   "name": "python3"
  },
  "language_info": {
   "codemirror_mode": {
    "name": "ipython",
    "version": 3
   },
   "file_extension": ".py",
   "mimetype": "text/x-python",
   "name": "python",
   "nbconvert_exporter": "python",
   "pygments_lexer": "ipython3",
   "version": "3.8.5"
  }
 },
 "nbformat": 4,
 "nbformat_minor": 5
}
